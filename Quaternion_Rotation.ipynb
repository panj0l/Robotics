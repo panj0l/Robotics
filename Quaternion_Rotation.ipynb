{
  "nbformat": 4,
  "nbformat_minor": 0,
  "metadata": {
    "colab": {
      "name": "Quaternion_Rotation.ipynb",
      "provenance": [],
      "collapsed_sections": []
    },
    "kernelspec": {
      "name": "python3",
      "display_name": "Python 3"
    }
  },
  "cells": [
    {
      "cell_type": "markdown",
      "metadata": {
        "id": "BAufNQtH2b1P"
      },
      "source": [
        "# Rotation Quaternion\n",
        "---\n",
        "## Kelompok :\n",
        "- Budi Ihsan Daulay\n",
        "- Hutomo Khairinas\n",
        "- Panji Bintoro\n",
        "- Wanda Yusuf Alvian\n",
        "---"
      ]
    },
    {
      "cell_type": "code",
      "metadata": {
        "id": "F5ARXrrGsJps",
        "outputId": "03d5d82f-d288-4742-fbb3-259fc1ba2176",
        "colab": {
          "base_uri": "https://localhost:8080/",
          "height": 357
        }
      },
      "source": [
        "!pip install pyquaternion\n",
        "!pip install gekko"
      ],
      "execution_count": null,
      "outputs": [
        {
          "output_type": "stream",
          "text": [
            "Collecting pyquaternion\n",
            "  Downloading https://files.pythonhosted.org/packages/49/b3/d8482e8cacc8ea15a356efea13d22ce1c5914a9ee36622ba250523240bf2/pyquaternion-0.9.9-py3-none-any.whl\n",
            "Requirement already satisfied: numpy in /usr/local/lib/python3.6/dist-packages (from pyquaternion) (1.18.5)\n",
            "Installing collected packages: pyquaternion\n",
            "Successfully installed pyquaternion-0.9.9\n",
            "Collecting gekko\n",
            "\u001b[?25l  Downloading https://files.pythonhosted.org/packages/f9/4b/d5520da5a95fe677d05479a8391327d318fad9f250de791e390c4c39e712/gekko-0.2.8-py3-none-any.whl (10.8MB)\n",
            "\u001b[K     |████████████████████████████████| 10.8MB 3.5MB/s \n",
            "\u001b[?25hRequirement already satisfied: numpy>=1.8 in /usr/local/lib/python3.6/dist-packages (from gekko) (1.18.5)\n",
            "Requirement already satisfied: flask in /usr/local/lib/python3.6/dist-packages (from gekko) (1.1.2)\n",
            "Collecting flask-cors\n",
            "  Downloading https://files.pythonhosted.org/packages/69/7f/d0aeaaafb5c3c76c8d2141dbe2d4f6dca5d6c31872d4e5349768c1958abc/Flask_Cors-3.0.9-py2.py3-none-any.whl\n",
            "Requirement already satisfied: itsdangerous>=0.24 in /usr/local/lib/python3.6/dist-packages (from flask->gekko) (1.1.0)\n",
            "Requirement already satisfied: Werkzeug>=0.15 in /usr/local/lib/python3.6/dist-packages (from flask->gekko) (1.0.1)\n",
            "Requirement already satisfied: Jinja2>=2.10.1 in /usr/local/lib/python3.6/dist-packages (from flask->gekko) (2.11.2)\n",
            "Requirement already satisfied: click>=5.1 in /usr/local/lib/python3.6/dist-packages (from flask->gekko) (7.1.2)\n",
            "Requirement already satisfied: Six in /usr/local/lib/python3.6/dist-packages (from flask-cors->gekko) (1.15.0)\n",
            "Requirement already satisfied: MarkupSafe>=0.23 in /usr/local/lib/python3.6/dist-packages (from Jinja2>=2.10.1->flask->gekko) (1.1.1)\n",
            "Installing collected packages: flask-cors, gekko\n",
            "Successfully installed flask-cors-3.0.9 gekko-0.2.8\n"
          ],
          "name": "stdout"
        }
      ]
    },
    {
      "cell_type": "markdown",
      "metadata": {
        "id": "HaPST2l1sdmo"
      },
      "source": [
        "1. Posisi awal (3,7,8). berputar CCW (sebesar 80 derajat) mengelilingi sumbu yang dibentuk oleh (0,0,0) dan (1,5,9). Posisi Akhir ?"
      ]
    },
    {
      "cell_type": "code",
      "metadata": {
        "id": "dvSjRRV-sTUI",
        "outputId": "1153fdb6-fdb3-4793-b394-2b89f11dea15",
        "colab": {
          "base_uri": "https://localhost:8080/",
          "height": 204
        }
      },
      "source": [
        "import numpy as np\n",
        "from pyquaternion import Quaternion\n",
        "x = 3\n",
        "y = 7\n",
        "z = 8\n",
        "ex = 1\n",
        "ey = 5\n",
        "ez = 9\n",
        "\n",
        "alpha = 80.0\n",
        "\n",
        "P = np.array([0,x,y,z])\n",
        "print(\"P = \", P)\n",
        "alpha = alpha / 180 * np.pi\n",
        "print(\"Alpha dalam radian = \\n\", alpha)\n",
        "q = Quaternion(axis=[ex,ey,ez], angle=alpha)\n",
        "print(\"q = \\n\", q)\n",
        "qC = q.conjugate #q*\n",
        "print(\"q* = \\n\", qC)\n",
        "P2 = q * P * qC\n",
        "print(\"P = \\n\", P2)\n",
        "\n",
        "P2V2 = q.rotate([x,y,z]) #(cara ke-2)\n",
        "print(\"P2V2 = \\n\", P2V2)"
      ],
      "execution_count": null,
      "outputs": [
        {
          "output_type": "stream",
          "text": [
            "P =  [0 3 7 8]\n",
            "Alpha dalam radian = \n",
            " 1.3962634015954636\n",
            "q = \n",
            " 0.766 +0.062i +0.311j +0.559k\n",
            "q* = \n",
            " 0.766 -0.062i -0.311j -0.559k\n",
            "P = \n",
            " 0.000 -0.819i +7.272j +8.273k\n",
            "P2V2 = \n",
            " [-0.8192489579074369, 7.272034288855783, 8.273230834847611]\n"
          ],
          "name": "stdout"
        }
      ]
    },
    {
      "cell_type": "markdown",
      "metadata": {
        "id": "u1GUqwGcspMk"
      },
      "source": [
        "2. Posisi awal (?,?,?).  berputar CCW (sebesar 20 derajat) mengelilingi sumbu yang dibentuk oleh (0,0,0) dan (1,1,9). Posisi Akhir (1,2,7)"
      ]
    },
    {
      "cell_type": "code",
      "metadata": {
        "id": "FIry-0seslR3",
        "outputId": "6ad23c7e-cfa3-4b0e-8d4c-ffb65fcad6be",
        "colab": {
          "base_uri": "https://localhost:8080/",
          "height": 170
        }
      },
      "source": [
        "x2 = 1\n",
        "y2 = 2\n",
        "z2 = 7\n",
        "ex = 1\n",
        "ey = 1\n",
        "ez = 9\n",
        "alpha = 20\n",
        "\n",
        "P2 = np.array([0,x2,y2,z2])\n",
        "print(\"P = \", P2)\n",
        "alpha = alpha / 180 * np.pi\n",
        "print(\"Alpha dalam radian = \\n\", alpha)\n",
        "q = Quaternion(axis=[ex,ey,ez], angle=alpha)\n",
        "print(\"q = \\n\", q)\n",
        "qC = q.conjugate #q*\n",
        "print(\"q* = \\n\", qC)\n",
        "P = qC * P2 * q\n",
        "print(\"P = \\n\", P)"
      ],
      "execution_count": null,
      "outputs": [
        {
          "output_type": "stream",
          "text": [
            "P =  [0 1 2 7]\n",
            "Alpha dalam radian = \n",
            " 0.3490658503988659\n",
            "q = \n",
            " 0.985 +0.019i +0.019j +0.172k\n",
            "q* = \n",
            " 0.985 -0.019i -0.019j -0.172k\n",
            "P = \n",
            " -0.000 +1.401i +1.852j +6.972k\n"
          ],
          "name": "stdout"
        }
      ]
    },
    {
      "cell_type": "markdown",
      "metadata": {
        "id": "XgM--HGAzPQ7"
      },
      "source": [
        "3.Diketahui posisi awal sebuah bagian dari object melayang di (10,30,100). tiba2 terhempas oleh angin dan berputar sebesar (20 derajat) tanpa bergeser dari tempatnya secara translasi, sehingga posisi akhirnya di (21,25,100). \n",
        "\ta. Tentukan sumbu putarnya\n",
        "\tb. Tentukan posisi akhirnya, jika berputar kembali sebesar 70 derajat"
      ]
    },
    {
      "cell_type": "code",
      "metadata": {
        "id": "QJhSm9TI0I_l",
        "outputId": "e8ed43c3-a4f4-4e4d-feb1-0dd6188d08b7",
        "colab": {
          "base_uri": "https://localhost:8080/",
          "height": 357
        }
      },
      "source": [
        "#KELOMPOK GANJIL \n",
        "alpha=20 \n",
        "alpha=alpha/180 * np.pi \n",
        "sin_alpha_stngh=np.sin(alpha/2)**2\n",
        "sin_alpha=np.sin(alpha)\n",
        "cos_alpha_stngh=np.cos(alpha/2)**2\n",
        "print(sin_alpha_stngh)\n",
        "print(sin_alpha)\n",
        "print(cos_alpha_stngh)\n",
        "\n",
        "x,y,z=10,30,100\n",
        "x2,y2,z2=21,25,100\n",
        "\n",
        "\n",
        "from gekko import GEKKO\n",
        "m = GEKKO()\n",
        "p,q,r = [m.Var(1) for i in range (3)]\n",
        "x = 10\n",
        "y = 30\n",
        "z = 100\n",
        "m.Equations([(x*p**2-x*q**2-x*r**2+2*y*p*q+2*z*p*r)*sin_alpha_stngh+sin_alpha*z*q*(p**2+q**2+r**2)**0.5-sin_alpha*y*r*(p**2+q**2+r**2)**0.5+cos_alpha_stngh*x==x2,\n",
        "             (-y*p**2+y*q**2-y*r**2+2*x*p*q+2*z*q*r)*sin_alpha_stngh-sin_alpha*z*p*(p**2+q**2+r**2)**0.5+sin_alpha*x*r*(p**2+q**2+r**2)**0.5+cos_alpha_stngh*y==y2,\n",
        "             (-z*p**2-z*q**2+z*r**2+2*x*p*r+2*y*q*r)*sin_alpha_stngh+sin_alpha*y*p*(p**2+q**2+r**2)**0.5-sin_alpha*x*q*(p**2+q**2+r**2)**0.5+cos_alpha_stngh*z==z2])\n",
        "m.solve(disp=False)\n",
        "print(p.value,q.value,r.value)\n",
        "\n",
        "ex,ey,ez=p.value[0],q.value[0],r.value[0]\n",
        "print(x,y,z)\n",
        "print(alpha)\n",
        "\n",
        "print(\"Sumbu putar: \")\n",
        "print(ex,ey,ez)\n",
        "print(\"\")\n",
        "print(\"Cek jika sumbu putar benar: \")\n",
        "from pyquaternion import Quaternion\n",
        "P=np.array([0,x,y,z])\n",
        "print(\"P = \",P)\n",
        "print(\"Alpha dalam radian = \\n\", alpha)\n",
        "q = Quaternion(axis=[ex,ey,ez], angle=alpha)\n",
        "print(\"q = \\n\", q)\n",
        "qC = q.conjugate #q*\n",
        "print(\"q* = \\n\", qC)\n",
        "P2 = q * P * qC\n",
        "print(\"P = \\n\", P2)\n",
        "print(\"Sumbu putar benar karena koordinat akhir yang diperoleh sama dengan soal\")"
      ],
      "execution_count": null,
      "outputs": [
        {
          "output_type": "stream",
          "text": [
            "0.030153689607045803\n",
            "0.3420201433256687\n",
            "0.9698463103929541\n",
            "[0.2669128202] [0.53520686237] [0.85165094878]\n",
            "10 30 100\n",
            "0.3490658503988659\n",
            "Sumbu putar: \n",
            "0.2669128202 0.53520686237 0.85165094878\n",
            "\n",
            "Cek jika sumbu putar benar: \n",
            "P =  [  0  10  30 100]\n",
            "Alpha dalam radian = \n",
            " 0.3490658503988659\n",
            "q = \n",
            " 0.985 +0.045i +0.089j +0.142k\n",
            "q* = \n",
            " 0.985 -0.045i -0.089j -0.142k\n",
            "P = \n",
            " 0.000 +20.134i +25.314j +99.769k\n",
            "Sumbu putar benar karena koordinat akhir yang diperoleh sama dengan soal\n"
          ],
          "name": "stdout"
        }
      ]
    },
    {
      "cell_type": "code",
      "metadata": {
        "id": "48YUhS2C5ruP",
        "outputId": "a21af6bf-0278-44e7-c917-bad2dc5c71d0",
        "colab": {
          "base_uri": "https://localhost:8080/",
          "height": 170
        }
      },
      "source": [
        "# soal B\n",
        "x,y,z=21,25,100\n",
        "ex,ey,ez=ex,ey,ez\n",
        "alpha=70\n",
        "alpha=alpha/180 * np.pi\n",
        "P=np.array([0,x,y,z])\n",
        "print(\"P = \",P)\n",
        "print(\"Alpha dalam radian = \\n\", alpha)\n",
        "q = Quaternion(axis=[ex,ey,ez], angle=alpha)\n",
        "print(\"q = \\n\", q)\n",
        "qC = q.conjugate #q*\n",
        "print(\"q* = \\n\", qC)\n",
        "P2 = q * P * qC\n",
        "print(\"P = \\n\", P2)"
      ],
      "execution_count": null,
      "outputs": [
        {
          "output_type": "stream",
          "text": [
            "P =  [  0  21  25 100]\n",
            "Alpha dalam radian = \n",
            " 1.2217304763960306\n",
            "q = \n",
            " 0.819 +0.147i +0.295j +0.469k\n",
            "q* = \n",
            " 0.819 -0.147i -0.295j -0.469k\n",
            "P = \n",
            " -0.000 +53.174i +34.465j +83.969k\n"
          ],
          "name": "stdout"
        }
      ]
    }
  ]
}