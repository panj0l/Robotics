{
  "nbformat": 4,
  "nbformat_minor": 0,
  "metadata": {
    "kernelspec": {
      "display_name": "Python 3",
      "language": "python",
      "name": "python3"
    },
    "language_info": {
      "codemirror_mode": {
        "name": "ipython",
        "version": 3
      },
      "file_extension": ".py",
      "mimetype": "text/x-python",
      "name": "python",
      "nbconvert_exporter": "python",
      "pygments_lexer": "ipython3",
      "version": "3.7.4"
    },
    "toc": {
      "base_numbering": 1,
      "nav_menu": {},
      "number_sections": true,
      "sideBar": true,
      "skip_h1_title": false,
      "title_cell": "Table of Contents",
      "title_sidebar": "Contents",
      "toc_cell": false,
      "toc_position": {},
      "toc_section_display": true,
      "toc_window_display": false
    },
    "varInspector": {
      "cols": {
        "lenName": 16,
        "lenType": 16,
        "lenVar": 40
      },
      "kernels_config": {
        "python": {
          "delete_cmd_postfix": "",
          "delete_cmd_prefix": "del ",
          "library": "var_list.py",
          "varRefreshCmd": "print(var_dic_list())"
        },
        "r": {
          "delete_cmd_postfix": ") ",
          "delete_cmd_prefix": "rm(",
          "library": "var_list.r",
          "varRefreshCmd": "cat(var_dic_list()) "
        }
      },
      "types_to_exclude": [
        "module",
        "function",
        "builtin_function_or_method",
        "instance",
        "_Feature"
      ],
      "window_display": false
    },
    "colab": {
      "name": "Kinematika_Maju.ipynb",
      "provenance": []
    }
  },
  "cells": [
    {
      "cell_type": "markdown",
      "metadata": {
        "id": "lsIHvRLQ6dRz"
      },
      "source": [
        "## Forward Kinematika\n",
        "\n",
        "### Kelompok\n",
        "---\n",
        "- Budi Ihsan Daulay\n",
        "- Hutomo Khairinas\n",
        "- Panji Bintoro\n",
        "- Wanda Yusuf Alvian\n",
        "---"
      ]
    },
    {
      "cell_type": "markdown",
      "metadata": {
        "id": "u1AIwXub6ZOW"
      },
      "source": [
        "Tentukan jumlah joint: 2\n",
        "Jumlah joint:  2\n",
        "Panjang link ke-1 : 1\n",
        "Sudut putar joint ke-1: 30\n",
        "Panjang link ke-2 : 2\n",
        "Sudut putar joint ke-2: 30"
      ]
    },
    {
      "cell_type": "code",
      "metadata": {
        "ExecuteTime": {
          "end_time": "2020-10-13T01:52:38.536269Z",
          "start_time": "2020-10-13T01:52:38.517292Z"
        },
        "id": "MqzpyjyY6ZOa"
      },
      "source": [
        "from numpy import sin,cos,pi\n",
        "\n",
        "#L=panjang, en=end_factor\n",
        "def kinematika_maju(L,sudut,en=1,x=0,y=0):\n",
        "    ex=[0 for ka in range(en+1)]\n",
        "    ey=[0 for ka in range(en+1)]\n",
        "    ex[0]=x\n",
        "    ey[0]=y\n",
        "    sudutBefore=0 \n",
        "    for i in range(0,en):\n",
        "        ey[i+1]=(sin(sudutBefore+sudut[i+1])*L[i+1])+ey[i]\n",
        "        ex[i+1]=(cos(sudutBefore+sudut[i+1])*L[i+1])+ex[i]\n",
        "        sudutBefore=sudutBefore+sudut[i+1]\n",
        "    return [ex[en],ey[en]]"
      ],
      "execution_count": null,
      "outputs": []
    },
    {
      "cell_type": "code",
      "metadata": {
        "ExecuteTime": {
          "end_time": "2020-10-13T01:53:01.008752Z",
          "start_time": "2020-10-13T01:52:45.684645Z"
        },
        "id": "FV576yMw6ZOm",
        "outputId": "cca7d6e8-b2de-4e7e-8da7-1a133d3392db",
        "colab": {
          "base_uri": "https://localhost:8080/",
          "height": 148
        }
      },
      "source": [
        "n=int(input(\"Tentukan jumlah joint: \"))\n",
        "L=[0 for k in range(n+1)]\n",
        "a=[0 for k in range(n+1)]\n",
        "print(\"Jumlah joint: \",n)\n",
        "for j in range(0,n):\n",
        "    L[j+1]=float(input(f\"Panjang link ke-{j+1} : \"))\n",
        "    a[j+1]=float(input(f\"Sudut putar joint ke-{j+1}: \"))\n",
        "    a[j+1]=a[j+1]/180 *pi\n",
        "endEff=kinematika_maju(L,a,n)\n",
        "print(\"Posisi end effector: \",endEff)\n",
        "        "
      ],
      "execution_count": null,
      "outputs": [
        {
          "output_type": "stream",
          "text": [
            "Tentukan jumlah joint: 2\n",
            "Jumlah joint:  2\n",
            "Panjang link ke-1 : 1\n",
            "Sudut putar joint ke-1: 30\n",
            "Panjang link ke-2 : 2\n",
            "Sudut putar joint ke-2: 30\n",
            "Posisi end effector:  [1.8660254037844388, 2.232050807568877]\n"
          ],
          "name": "stdout"
        }
      ]
    },
    {
      "cell_type": "code",
      "metadata": {
        "ExecuteTime": {
          "end_time": "2020-10-13T01:53:05.534671Z",
          "start_time": "2020-10-13T01:53:05.527673Z"
        },
        "id": "O1Gdnhgw6ZO0",
        "outputId": "cab8eec3-d778-4ef1-8ae5-4a6b5b2e3ed8",
        "colab": {
          "base_uri": "https://localhost:8080/",
          "height": 36
        }
      },
      "source": [
        "#manual\n",
        "sudut1=30/180 *pi\n",
        "sudut2=30/180 *pi\n",
        "x=1*cos(sudut1)+2*cos(sudut1+sudut2)\n",
        "y=1*sin(sudut1)+2*sin(sudut1+sudut2)\n",
        "print(x,y)"
      ],
      "execution_count": null,
      "outputs": [
        {
          "output_type": "stream",
          "text": [
            "1.8660254037844388 2.232050807568877\n"
          ],
          "name": "stdout"
        }
      ]
    },
    {
      "cell_type": "markdown",
      "metadata": {
        "id": "KlgCpOXz6ZO-"
      },
      "source": [
        "Tentukan jumlah joint: 2\n",
        "Jumlah joint:  2\n",
        "Panjang link ke-1 : 10\n",
        "Sudut putar joint ke-1: 30\n",
        "Panjang link ke-2 : 20\n",
        "Sudut putar joint ke-2: 45"
      ]
    },
    {
      "cell_type": "code",
      "metadata": {
        "ExecuteTime": {
          "end_time": "2020-10-13T01:53:22.457577Z",
          "start_time": "2020-10-13T01:53:11.703558Z"
        },
        "id": "wDcHU4xT6ZO_",
        "outputId": "fdeb75b9-cccb-4fff-d685-b16fa9bd1c2d",
        "colab": {
          "base_uri": "https://localhost:8080/",
          "height": 148
        }
      },
      "source": [
        "n=int(input(\"Tentukan jumlah joint: \"))\n",
        "L=[0 for k in range(n+1)]\n",
        "a=[0 for k in range(n+1)]\n",
        "print(\"Jumlah joint: \",n)\n",
        "for j in range(0,n):\n",
        "    L[j+1]=float(input(f\"Panjang link ke-{j+1} : \"))\n",
        "    a[j+1]=float(input(f\"Sudut putar joint ke-{j+1}: \"))\n",
        "    a[j+1]=a[j+1]/180 *pi\n",
        "endEff=kinematika_maju(L,a,n)\n",
        "print(\"Posisi end effector: \",endEff)"
      ],
      "execution_count": null,
      "outputs": [
        {
          "output_type": "stream",
          "text": [
            "Tentukan jumlah joint: 2\n",
            "Jumlah joint:  2\n",
            "Panjang link ke-1 : 10\n",
            "Sudut putar joint ke-1: 30\n",
            "Panjang link ke-2 : 20\n",
            "Sudut putar joint ke-2: 45\n",
            "Posisi end effector:  [13.836634939894807, 24.318516525781362]\n"
          ],
          "name": "stdout"
        }
      ]
    },
    {
      "cell_type": "code",
      "metadata": {
        "ExecuteTime": {
          "end_time": "2020-10-13T01:53:26.493648Z",
          "start_time": "2020-10-13T01:53:26.484656Z"
        },
        "id": "24aDVo1V6ZPJ",
        "outputId": "3dcee515-b714-450a-c854-a03c2fc50361",
        "colab": {
          "base_uri": "https://localhost:8080/",
          "height": 36
        }
      },
      "source": [
        "#manual\n",
        "sudut1=30/180 *pi\n",
        "sudut2=45/180 *pi\n",
        "x=10*cos(sudut1)+20*cos(sudut1+sudut2)\n",
        "y=10*sin(sudut1)+20*sin(sudut1+sudut2)\n",
        "print(x,y)"
      ],
      "execution_count": null,
      "outputs": [
        {
          "output_type": "stream",
          "text": [
            "13.836634939894807 24.318516525781362\n"
          ],
          "name": "stdout"
        }
      ]
    },
    {
      "cell_type": "code",
      "metadata": {
        "id": "J-3VNKzd6ZPS"
      },
      "source": [
        "Panjang link ke-2 : 2\n",
        "Sudut putar joint ke-1: 30\n",
        "Panjang link ke-2 : 4\n",
        "Sudut putar joint ke-2: 10\n",
        "Panjang link ke-3 : 2\n",
        "Sudut putar joint ke-3: 20"
      ],
      "execution_count": null,
      "outputs": []
    },
    {
      "cell_type": "code",
      "metadata": {
        "ExecuteTime": {
          "end_time": "2020-10-13T02:36:48.857714Z",
          "start_time": "2020-10-13T02:36:31.706897Z"
        },
        "id": "c_uQ8Vk-6ZPc",
        "outputId": "e4080c9c-db96-4c52-90a1-adfbf21edd16",
        "colab": {
          "base_uri": "https://localhost:8080/",
          "height": 241
        }
      },
      "source": [
        "# n=int(input(\"Tentukan jumlah joint: \"))\n",
        "n=int(input(\"Tentukan jumlah joint: \"))\n",
        "L=[0 for k in range(n+1)]\n",
        "a=[0 for k in range(n+1)]\n",
        "sudut_putar_bodi=int(input(\"sudut putar bodi: \"))\n",
        "x=int(input(\"x : \"))\n",
        "y=int(input(\"y : \"))\n",
        "sudut_putar_bodi=sudut_putar_bodi/180 *pi\n",
        "print(\"Jumlah joint: \",n)\n",
        "for j in range(0,n):\n",
        "    L[j+1]=float(input(f\"Panjang link ke-{j+1} : \"))\n",
        "    a[j+1]=float(input(f\"Sudut putar joint ke-{j+1}: \"))\n",
        "    a[j+1]=a[j+1]/180 *pi\n",
        "a[1]=a[1]+sudut_putar_bodi\n",
        "endEff=kinematika_maju(L,a,n,x,y)\n",
        "print(\"Posisi end effector: \",endEff)"
      ],
      "execution_count": null,
      "outputs": [
        {
          "output_type": "stream",
          "text": [
            "Tentukan jumlah joint: 3\n",
            "sudut putar bodi: 10\n",
            "x : 0\n",
            "y : 0\n",
            "Jumlah joint:  3\n",
            "Panjang link ke-1 : 2\n",
            "Sudut putar joint ke-1: 30\n",
            "Panjang link ke-2 : 4\n",
            "Sudut putar joint ke-2: 10\n",
            "Panjang link ke-3 : 2\n",
            "Sudut putar joint ke-3: 20\n",
            "Posisi end effector:  [4.7872796116354515, 6.229138233420808]\n"
          ],
          "name": "stdout"
        }
      ]
    },
    {
      "cell_type": "code",
      "metadata": {
        "ExecuteTime": {
          "end_time": "2020-10-13T02:36:51.635945Z",
          "start_time": "2020-10-13T02:36:51.618943Z"
        },
        "id": "p5ho_rBY6ZPj",
        "outputId": "e2b087cf-7915-4349-9269-eac8f9397a7d",
        "colab": {
          "base_uri": "https://localhost:8080/",
          "height": 36
        }
      },
      "source": [
        "p1=2\n",
        "p2=4\n",
        "p3=2\n",
        "sudut1=30/180 *pi\n",
        "sudut2=10/180 *pi\n",
        "sudut3=20/180 *pi\n",
        "sudut_putar_bodi=10/180 *pi\n",
        "x=p1*cos(sudut1+sudut_putar_bodi)+p2*cos(sudut1+sudut_putar_bodi+sudut2)+p3*cos(sudut1+sudut_putar_bodi+sudut2+sudut3)\n",
        "y=p1*sin(sudut1+sudut_putar_bodi)+p2*sin(sudut1+sudut_putar_bodi+sudut2)+p3*sin(sudut1+sudut_putar_bodi+sudut2+sudut3)\n",
        "print(x,y)"
      ],
      "execution_count": null,
      "outputs": [
        {
          "output_type": "stream",
          "text": [
            "4.7872796116354515 6.229138233420808\n"
          ],
          "name": "stdout"
        }
      ]
    },
    {
      "cell_type": "code",
      "metadata": {
        "id": "vz6-MebP6ZPq"
      },
      "source": [
        ""
      ],
      "execution_count": null,
      "outputs": []
    }
  ]
}