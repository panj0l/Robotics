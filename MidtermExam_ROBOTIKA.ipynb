{
  "nbformat": 4,
  "nbformat_minor": 0,
  "metadata": {
    "colab": {
      "name": "UTS_ROBOTIKA.ipynb",
      "provenance": []
    },
    "kernelspec": {
      "name": "python3",
      "display_name": "Python 3"
    }
  },
  "cells": [
    {
      "cell_type": "markdown",
      "metadata": {
        "id": "LtSqJhZXfbY6"
      },
      "source": [
        "**Nomor 1**\n",
        "Terdapat sebuah robot yang berada pada ruang 3D dengan koordinat mengikuti aturan tangan kanan dengan konfigurasi tersebut. Robot terdiri dari tiga buah sendi yang secara berurutan berjenis sendi putar, sendi prismatik dan sendi putar. Tentukan titik akhir dari robot dengan menggunakan Denavit Hartenberg apabila memiliki parameter DH seperti yang ditunjukkan pada tabel. Buatlah kode programnya dan penjelasan secukupnya. Informasi seputar DH bisa dicari di Google."
      ]
    },
    {
      "cell_type": "code",
      "metadata": {
        "id": "fYpL0kwG6AFw"
      },
      "source": [
        "from numpy import sin, cos, pi, array, eye, dot\n",
        "from numpy.linalg import multi_dot"
      ],
      "execution_count": null,
      "outputs": []
    },
    {
      "cell_type": "code",
      "metadata": {
        "id": "ewUfKxoP6CoT"
      },
      "source": [
        "def TransZ(de, en=1):\n",
        "    Di = [0. for ka in range(en)]\n",
        "    for i in range(0, en):\n",
        "        Di[i] = array([[1, 0, 0, 0],\n",
        "                      [0, 1, 0, 0],\n",
        "                      [0, 0, 1, de[i]],\n",
        "                      [0, 0, 0, 1]])\n",
        "    return Di"
      ],
      "execution_count": null,
      "outputs": []
    },
    {
      "cell_type": "code",
      "metadata": {
        "id": "KMAtwmFD6EJj"
      },
      "source": [
        "def TransX(aa, en=1):\n",
        "    Ai = [0. for ka in range(en)]\n",
        "    for i in range(0, en):\n",
        "        Ai[i] = array([[1, 0, 0, aa[i]],\n",
        "                      [0, 1, 0, 0],\n",
        "                      [0, 0, 1, 0],\n",
        "                      [0, 0, 0, 1]])\n",
        "    return Ai"
      ],
      "execution_count": null,
      "outputs": []
    },
    {
      "cell_type": "code",
      "metadata": {
        "id": "rnm_-YN56F8m"
      },
      "source": [
        "def RotZ(te, en=1):\n",
        "    Ti = [0. for ka in range(en)]\n",
        "    for i in range(0, en):\n",
        "        Ti[i] = array([[cos(te[i]), -sin(te[i]), 0, 0],\n",
        "                      [sin(te[i]), cos(te[i]), 0, 0],\n",
        "                      [0, 0, 1, 0],\n",
        "                      [0, 0, 0, 1]])\n",
        "    return Ti"
      ],
      "execution_count": null,
      "outputs": []
    },
    {
      "cell_type": "code",
      "metadata": {
        "id": "lgrBZKLg6HdJ"
      },
      "source": [
        "def RotX(aa, en=1):\n",
        "    Ai = [0. for ka in range(en)]\n",
        "    for i in range(0, en):\n",
        "        Ai[i] = array([[1, 0, 0, 0],\n",
        "                      [0, cos(aa[i]), -sin(aa[i]), 0],\n",
        "                      [0, sin(aa[i]), cos(aa[i]), 0],\n",
        "                      [0, 0, 0, 1]])\n",
        "    return Ai"
      ],
      "execution_count": null,
      "outputs": []
    },
    {
      "cell_type": "code",
      "metadata": {
        "id": "9BNNpMcz6Jxn"
      },
      "source": [
        "def Trans(rotx, rotz, transx, transz, en=1):\n",
        "    TT = [0. for ka in range(en)]\n",
        "    for i in range(0, en):\n",
        "        TT[i] = multi_dot([rotx[i], transx[i], rotz[i], transz[i]])\n",
        "        print(\"Trans ke-\",i,\" = \",TT[i])\n",
        "    return TT"
      ],
      "execution_count": null,
      "outputs": []
    },
    {
      "cell_type": "code",
      "metadata": {
        "id": "4x9TMJd_6LIy"
      },
      "source": [
        "def TransTotal(TT, en=1):\n",
        "    TransTot = eye(4)\n",
        "    for i in range(0, en):\n",
        "        TransTot = dot(TransTot, TT[i])\n",
        "        print(\"Perkalian Trans ke-\",i,\" = \",TransTot)\n",
        "    return TransTot"
      ],
      "execution_count": null,
      "outputs": []
    },
    {
      "cell_type": "code",
      "metadata": {
        "id": "EZPvssxG6Mes",
        "outputId": "578183f5-7b31-4a6b-f90f-5d98e883325b",
        "colab": {
          "base_uri": "https://localhost:8080/",
          "height": 1000
        }
      },
      "source": [
        "n = int(input(\"Tentukan jumlah joint: \"))\n",
        "d = [0. for k in range(n)]\n",
        "a = [0. for k in range(n)]\n",
        "t = [0. for k in range(n)]\n",
        "alp = [0. for k in range(n)]\n",
        "print(\"Jumlah joint = \",n)\n",
        "for j in range(0, n):\n",
        "    a[j] = float(input(\"\\nPanjang link ke-%i ($a_%i$): \"%(j+1,j+1)))\n",
        "    d[j] = float(input(\"Panjang d ke-%i: \"%(j+1)))\n",
        "    t[j] = float(input(\"Sudut $\\(theta)$ ke-%i: \"%(j+1)))\n",
        "    t[j] = t[j] / 180 * pi #diubah ke radian\n",
        "    alp[j] = float(input(\"Sudut $\\(alpha)$ ke-%i: \"%(j+1)))\n",
        "    alp[j] = alp[j] / 180 * pi #diubah ke radian\n",
        "print(\"Theta i = \", t)\n",
        "tz = TransZ(d, n)\n",
        "tx = TransX(a, n)\n",
        "rz = RotZ(t, n)\n",
        "rx = RotX(alp, n)\n",
        "Tr = Trans(rx, tx, rz, tz, n)\n",
        "T = TransTotal(Tr, n)\n",
        "P = [T[0,3], T[1,3], T[2,3]]\n",
        "print(\"\\n=================================================\")\n",
        "print(\"Trans Z = \", tz)\n",
        "print(\"Trans X = \", tx)\n",
        "print(\"Rot Z = \", rz)\n",
        "print(\"Rot X = \", rx)\n",
        "print(\"Trans Total = \", T)\n",
        "print(\"=================================================\\n\")\n",
        "print(\"Posisi end effector = \", P)"
      ],
      "execution_count": null,
      "outputs": [
        {
          "output_type": "stream",
          "text": [
            "Tentukan jumlah joint: 3\n",
            "Jumlah joint =  3\n",
            "\n",
            "Panjang link ke-1 ($a_1$): 0\n",
            "Panjang d ke-1: 10\n",
            "Sudut $\\(theta)$ ke-1: 30\n",
            "Sudut $\\(alpha)$ ke-1: 0\n",
            "\n",
            "Panjang link ke-2 ($a_2$): 0\n",
            "Panjang d ke-2: 7.5\n",
            "Sudut $\\(theta)$ ke-2: 0\n",
            "Sudut $\\(alpha)$ ke-2: 90\n",
            "\n",
            "Panjang link ke-3 ($a_3$): 0\n",
            "Panjang d ke-3: 3.75\n",
            "Sudut $\\(theta)$ ke-3: 45\n",
            "Sudut $\\(alpha)$ ke-3: 0\n",
            "Theta i =  [0.5235987755982988, 0.0, 0.7853981633974483]\n",
            "Trans ke- 0  =  [[ 0.8660254 -0.5        0.         0.       ]\n",
            " [ 0.5        0.8660254  0.         0.       ]\n",
            " [ 0.         0.         1.        10.       ]\n",
            " [ 0.         0.         0.         1.       ]]\n",
            "Trans ke- 1  =  [[ 1.0000000e+00  0.0000000e+00  0.0000000e+00  0.0000000e+00]\n",
            " [ 0.0000000e+00  6.1232340e-17 -1.0000000e+00 -7.5000000e+00]\n",
            " [ 0.0000000e+00  1.0000000e+00  6.1232340e-17  4.5924255e-16]\n",
            " [ 0.0000000e+00  0.0000000e+00  0.0000000e+00  1.0000000e+00]]\n",
            "Trans ke- 2  =  [[ 0.70710678 -0.70710678  0.          0.        ]\n",
            " [ 0.70710678  0.70710678  0.          0.        ]\n",
            " [ 0.          0.          1.          3.75      ]\n",
            " [ 0.          0.          0.          1.        ]]\n",
            "Perkalian Trans ke- 0  =  [[ 0.8660254 -0.5        0.         0.       ]\n",
            " [ 0.5        0.8660254  0.         0.       ]\n",
            " [ 0.         0.         1.        10.       ]\n",
            " [ 0.         0.         0.         1.       ]]\n",
            "Perkalian Trans ke- 1  =  [[ 8.66025404e-01 -3.06161700e-17  5.00000000e-01  3.75000000e+00]\n",
            " [ 5.00000000e-01  5.30287619e-17 -8.66025404e-01 -6.49519053e+00]\n",
            " [ 0.00000000e+00  1.00000000e+00  6.12323400e-17  1.00000000e+01]\n",
            " [ 0.00000000e+00  0.00000000e+00  0.00000000e+00  1.00000000e+00]]\n",
            "Perkalian Trans ke- 2  =  [[ 6.12372436e-01 -6.12372436e-01  5.00000000e-01  5.62500000e+00]\n",
            " [ 3.53553391e-01 -3.53553391e-01 -8.66025404e-01 -9.74278579e+00]\n",
            " [ 7.07106781e-01  7.07106781e-01  6.12323400e-17  1.00000000e+01]\n",
            " [ 0.00000000e+00  0.00000000e+00  0.00000000e+00  1.00000000e+00]]\n",
            "\n",
            "=================================================\n",
            "Trans Z =  [array([[ 1.,  0.,  0.,  0.],\n",
            "       [ 0.,  1.,  0.,  0.],\n",
            "       [ 0.,  0.,  1., 10.],\n",
            "       [ 0.,  0.,  0.,  1.]]), array([[1. , 0. , 0. , 0. ],\n",
            "       [0. , 1. , 0. , 0. ],\n",
            "       [0. , 0. , 1. , 7.5],\n",
            "       [0. , 0. , 0. , 1. ]]), array([[1.  , 0.  , 0.  , 0.  ],\n",
            "       [0.  , 1.  , 0.  , 0.  ],\n",
            "       [0.  , 0.  , 1.  , 3.75],\n",
            "       [0.  , 0.  , 0.  , 1.  ]])]\n",
            "Trans X =  [array([[1., 0., 0., 0.],\n",
            "       [0., 1., 0., 0.],\n",
            "       [0., 0., 1., 0.],\n",
            "       [0., 0., 0., 1.]]), array([[1., 0., 0., 0.],\n",
            "       [0., 1., 0., 0.],\n",
            "       [0., 0., 1., 0.],\n",
            "       [0., 0., 0., 1.]]), array([[1., 0., 0., 0.],\n",
            "       [0., 1., 0., 0.],\n",
            "       [0., 0., 1., 0.],\n",
            "       [0., 0., 0., 1.]])]\n",
            "Rot Z =  [array([[ 0.8660254, -0.5      ,  0.       ,  0.       ],\n",
            "       [ 0.5      ,  0.8660254,  0.       ,  0.       ],\n",
            "       [ 0.       ,  0.       ,  1.       ,  0.       ],\n",
            "       [ 0.       ,  0.       ,  0.       ,  1.       ]]), array([[ 1., -0.,  0.,  0.],\n",
            "       [ 0.,  1.,  0.,  0.],\n",
            "       [ 0.,  0.,  1.,  0.],\n",
            "       [ 0.,  0.,  0.,  1.]]), array([[ 0.70710678, -0.70710678,  0.        ,  0.        ],\n",
            "       [ 0.70710678,  0.70710678,  0.        ,  0.        ],\n",
            "       [ 0.        ,  0.        ,  1.        ,  0.        ],\n",
            "       [ 0.        ,  0.        ,  0.        ,  1.        ]])]\n",
            "Rot X =  [array([[ 1.,  0.,  0.,  0.],\n",
            "       [ 0.,  1., -0.,  0.],\n",
            "       [ 0.,  0.,  1.,  0.],\n",
            "       [ 0.,  0.,  0.,  1.]]), array([[ 1.000000e+00,  0.000000e+00,  0.000000e+00,  0.000000e+00],\n",
            "       [ 0.000000e+00,  6.123234e-17, -1.000000e+00,  0.000000e+00],\n",
            "       [ 0.000000e+00,  1.000000e+00,  6.123234e-17,  0.000000e+00],\n",
            "       [ 0.000000e+00,  0.000000e+00,  0.000000e+00,  1.000000e+00]]), array([[ 1.,  0.,  0.,  0.],\n",
            "       [ 0.,  1., -0.,  0.],\n",
            "       [ 0.,  0.,  1.,  0.],\n",
            "       [ 0.,  0.,  0.,  1.]])]\n",
            "Trans Total =  [[ 6.12372436e-01 -6.12372436e-01  5.00000000e-01  5.62500000e+00]\n",
            " [ 3.53553391e-01 -3.53553391e-01 -8.66025404e-01 -9.74278579e+00]\n",
            " [ 7.07106781e-01  7.07106781e-01  6.12323400e-17  1.00000000e+01]\n",
            " [ 0.00000000e+00  0.00000000e+00  0.00000000e+00  1.00000000e+00]]\n",
            "=================================================\n",
            "\n",
            "Posisi end effector =  [5.624999999999999, -9.742785792574935, 10.0]\n"
          ],
          "name": "stdout"
        }
      ]
    }
  ]
}