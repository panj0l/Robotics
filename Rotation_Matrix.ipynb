{
  "nbformat": 4,
  "nbformat_minor": 0,
  "metadata": {
    "kernelspec": {
      "display_name": "Python 3",
      "language": "python",
      "name": "python3"
    },
    "language_info": {
      "codemirror_mode": {
        "name": "ipython",
        "version": 3
      },
      "file_extension": ".py",
      "mimetype": "text/x-python",
      "name": "python",
      "nbconvert_exporter": "python",
      "pygments_lexer": "ipython3",
      "version": "3.7.3"
    },
    "colab": {
      "name": "Rotation_Matrix.ipynb",
      "provenance": []
    }
  },
  "cells": [
    {
      "cell_type": "markdown",
      "metadata": {
        "id": "DWFnDWhm0ZVM"
      },
      "source": [
        "## Tugas Rotation Matrix 2D\n",
        "---\n",
        "- Budi Ihsan Daulay\n",
        "- Hutomo Khairinas\n",
        "- Panji Bintoro\n",
        "- Wanda Yusuf Alvian\n",
        "---\n",
        "### Rumus\n",
        "$$\n",
        "\\begin{bmatrix} \n",
        "{x}' \\\\ {y}' \n",
        "\\end{bmatrix}\n",
        "=\n",
        "\\begin{bmatrix} \n",
        "\\cos \\theta & -\\sin \\theta \n",
        "\\\\ \\sin\\theta & \\cos\\theta \n",
        "\\end{bmatrix} \n",
        "\\begin{bmatrix} x \\\\ y \\end{bmatrix}\n",
        "$$"
      ]
    },
    {
      "cell_type": "markdown",
      "metadata": {
        "id": "uCd9zMjt0ZVN"
      },
      "source": [
        "### 1\n",
        "P awal\n",
        "$\n",
        "P(20,30) \n",
        "$\n",
        "\n",
        "$\n",
        "\\theta = 15^\\circ\n",
        "$\n",
        "\n",
        "P akhir\n",
        "$\n",
        "P(?,?)\n",
        "$"
      ]
    },
    {
      "cell_type": "code",
      "metadata": {
        "id": "7ns_Y4cR0ZVO",
        "outputId": "65c93179-8bf6-453b-e9c2-875029980642",
        "colab": {
          "base_uri": "https://localhost:8080/",
          "height": 263
        }
      },
      "source": [
        "import numpy as np\n",
        "theta = 15.0\n",
        "x = 20\n",
        "y = 30\n",
        "P = np.array([[x],\n",
        "             [y]])\n",
        "print(\"P = \\n\",P)\n",
        "\n",
        "#mengubah theta menjadi derajat\n",
        "theta = theta / 180 * np.pi\n",
        "print(\"Theta dalam radian = \",theta)\n",
        "\n",
        "#merotasi matriks\n",
        "rot = np.array([[np.cos(theta), -np.sin(theta)],\n",
        "               [np.sin(theta), np.cos(theta)]])\n",
        "print(\"Rotasi matriks = \\n\", rot)\n",
        "\n",
        "#mengalikan matriks hasil rotasi dengan nilai P awal untuk memperoleh posisi akhir\n",
        "P2 = rot.dot(P)\n",
        "x2 = P2[0,0]\n",
        "y2 = P2[1,0]\n",
        "print(\"\\nHasil akhir dari P', x', y' adalah: \")\n",
        "print(\"P' = \\n\", P2)\n",
        "print(\"x' = \",x2)\n",
        "print(\"y' = \",y2)"
      ],
      "execution_count": null,
      "outputs": [
        {
          "output_type": "stream",
          "text": [
            "P = \n",
            " [[20]\n",
            " [30]]\n",
            "Theta dalam radian =  0.2617993877991494\n",
            "Rotasi matriks = \n",
            " [[ 0.96592583 -0.25881905]\n",
            " [ 0.25881905  0.96592583]]\n",
            "\n",
            "Hasil akhir dari P', x', y' adalah: \n",
            "P' = \n",
            " [[11.55394517]\n",
            " [34.15415569]]\n",
            "x' =  11.553945172705744\n",
            "y' =  34.15415569072246\n"
          ],
          "name": "stdout"
        }
      ]
    },
    {
      "cell_type": "markdown",
      "metadata": {
        "id": "qjh0BPt-0ZVS"
      },
      "source": [
        "### 2\n",
        "P akhir $P(10,30)$ \n",
        "\n",
        "$\\theta = 78^\\circ$\n",
        "\n",
        "P awal $P(?,?)$"
      ]
    },
    {
      "cell_type": "code",
      "metadata": {
        "id": "dQYWMl_r0ZVS",
        "outputId": "8d4b4436-8e14-4140-c4a6-81b9fc697ff7"
      },
      "source": [
        "import numpy as np\n",
        "theta = 78.0\n",
        "x2 = 10\n",
        "y2 = 30\n",
        "P2 = np.array([[x2],\n",
        "              [y2]]) #Posisi Akhir P'\n",
        "print(\"P' = \\n\" ,P2)\n",
        "\n",
        "theta = theta / 180 * np.pi\n",
        "print(\"Theta dalam radian = \" ,theta)\n",
        "\n",
        "rot = np.array([[np.cos(theta), -np.sin(theta)],\n",
        "               [np.sin(theta), np.cos(theta)]])\n",
        "print(\"Matriks rotasi: \\n\" ,rot)\n",
        "rot = np.linalg.inv(rot)\n",
        "print(\"Invers Matriks rotasi: \\n\" ,rot)\n",
        "\n",
        "P = rot.dot(P2)\n",
        "x = P[0,0]\n",
        "y = P[1,0]\n",
        "print(\"\\nHasil awal dari P, x, y adalah: \")\n",
        "print(\"P = \\n\" ,P)\n",
        "print(\"x = \" ,x)\n",
        "print(\"y = \" ,y)"
      ],
      "execution_count": null,
      "outputs": [
        {
          "output_type": "stream",
          "text": [
            "P' = \n",
            " [[10]\n",
            " [30]]\n",
            "Theta dalam radian =  1.3613568165555772\n",
            "Matriks rotasi: \n",
            " [[ 0.20791169 -0.9781476 ]\n",
            " [ 0.9781476   0.20791169]]\n",
            "Invers Matriks rotasi: \n",
            " [[ 0.20791169  0.9781476 ]\n",
            " [-0.9781476   0.20791169]]\n",
            "\n",
            "Hasil awal dari P, x, y adalah: \n",
            "P = \n",
            " [[31.42354493]\n",
            " [-3.54412528]]\n",
            "x =  31.42354493019176\n",
            "y =  -3.54412528280528\n"
          ],
          "name": "stdout"
        }
      ]
    },
    {
      "cell_type": "markdown",
      "metadata": {
        "id": "km0UH-_30ZVV"
      },
      "source": [
        "### 3\n",
        "P awal\n",
        "$\n",
        "P(20,30) \n",
        "$\n",
        "\n",
        "$\n",
        "\\theta = 15^\\circ\n",
        "$\n",
        "\n",
        "Berputar Kembali ke\n",
        "$\n",
        "\\theta = -80^\\circ\n",
        "$\n",
        "\n",
        "P akhir\n",
        "$\n",
        "P(?,?)\n",
        "$"
      ]
    },
    {
      "cell_type": "code",
      "metadata": {
        "id": "95waRLcm0ZVW",
        "outputId": "ab40d984-5197-4796-bdc5-9f08295fa164"
      },
      "source": [
        "import numpy as np\n",
        "theta = 15.0\n",
        "x = 20\n",
        "y = 30\n",
        "P = np.array([[x],\n",
        "             [y]])\n",
        "print(\"P = \\n\",P)\n",
        "print(\"Theta awal = \", theta)\n",
        "theta = theta / 180 * np.pi\n",
        "print(\"Theta dalam radian = \",theta)\n",
        "rot = np.array([[np.cos(theta), -np.sin(theta)],\n",
        "               [np.sin(theta), np.cos(theta)]])\n",
        "print(\"Rotasi matriks = \\n\", rot)\n",
        "P1 = rot.dot(P)\n",
        "x1 = P1[0,0]\n",
        "y1 = P1[1,0]\n",
        "print(\"P' = \\n\", P1)\n",
        "print(\"x' = \",x1)\n",
        "print(\"y' = \",y1)\n",
        "\n",
        "P2 = np.array([[x1], \n",
        "               [y1]])\n",
        "print(\"\\nTitik P Baru = \\n\",P2)\n",
        "theta = -80.0\n",
        "print(\"Berputar lagi ke = \",theta)\n",
        "theta = theta / 180 * np.pi\n",
        "print(\"Theta dalam radian = \",theta)\n",
        "rot = np.array([[np.cos(theta), -np.sin(theta)],\n",
        "               [np.sin(theta), np.cos(theta)]])\n",
        "print(\"Rotasi matriks berputar lagi = \\n\", rot)\n",
        "P3 = rot.dot(P2)\n",
        "x3 = P3[0,0]\n",
        "y3 = P3[1,0]\n",
        "print(\"\\nHasil akhir dari P', x', y' adalah: \")\n",
        "print(\"P' = \\n\", P3)\n",
        "print(\"x' = \",x3)\n",
        "print(\"y' = \",y3)"
      ],
      "execution_count": null,
      "outputs": [
        {
          "output_type": "stream",
          "text": [
            "P = \n",
            " [[20]\n",
            " [30]]\n",
            "Theta awal =  15.0\n",
            "Theta dalam radian =  0.2617993877991494\n",
            "Rotasi matriks = \n",
            " [[ 0.96592583 -0.25881905]\n",
            " [ 0.25881905  0.96592583]]\n",
            "P' = \n",
            " [[11.55394517]\n",
            " [34.15415569]]\n",
            "x' =  11.553945172705744\n",
            "y' =  34.15415569072246\n",
            "\n",
            "Titik P Baru = \n",
            " [[11.55394517]\n",
            " [34.15415569]]\n",
            "Berputar lagi ke =  -80.0\n",
            "Theta dalam radian =  -1.3962634015954636\n",
            "Rotasi matriks berputar lagi = \n",
            " [[ 0.17364818  0.98480775]\n",
            " [-0.98480775  0.17364818]]\n",
            "\n",
            "Hasil akhir dari P', x', y' adalah: \n",
            "P' = \n",
            " [[35.64159885]\n",
            " [-5.44760789]]\n",
            "x' =  35.641598845913485\n",
            "y' =  -5.447607888512015\n"
          ],
          "name": "stdout"
        }
      ]
    },
    {
      "cell_type": "markdown",
      "metadata": {
        "id": "nX0qsHPw0ZVZ"
      },
      "source": [
        "### 4\n",
        "P akhir $P(1,3)$ \n",
        "\n",
        "$\\theta = 60^\\circ$\n",
        "\n",
        "Berputar lagi ke $\\theta = -30^\\circ$\n",
        "\n",
        "P awal $P(?,?)$"
      ]
    },
    {
      "cell_type": "code",
      "metadata": {
        "id": "9iTkMLwy0ZVZ",
        "outputId": "84fd6cda-56ca-4559-8bf1-88367d33754f",
        "colab": {
          "base_uri": "https://localhost:8080/",
          "height": 667
        }
      },
      "source": [
        "import numpy as np\n",
        "theta = 60.0\n",
        "x2 = 1\n",
        "y2 = 3\n",
        "P2 = np.array([[x2],\n",
        "              [y2]]) #Posisi Akhir P'\n",
        "print(\"P' = \\n\" ,P2)\n",
        "print(\"Theta awal = \",theta)\n",
        "theta = theta / 180 * np.pi\n",
        "print(\"Theta dalam radian = \" ,theta)\n",
        "rot = np.array([[np.cos(theta), -np.sin(theta)],\n",
        "               [np.sin(theta), np.cos(theta)]])\n",
        "print(\"Matriks rotasi: \\n\" ,rot)\n",
        "rot = np.linalg.inv(rot)\n",
        "print(\"Invers Matriks rotasi: \\n\" ,rot)\n",
        "P = rot.dot(P2)\n",
        "x = P[0,0]\n",
        "y = P[1,0]\n",
        "print(\"P = \\n\" ,P)\n",
        "print(\"x = \" ,x)\n",
        "print(\"y = \" ,y)\n",
        "\n",
        "P1 = np.array([[x], \n",
        "               [y]])\n",
        "print(\"\\nTitik P baru = \\n\", P1)\n",
        "theta = -30.0\n",
        "print(\"Berputar lagi = \",theta)\n",
        "theta = theta / 180 * np.pi\n",
        "print(\"Theta dalam radian = \" ,theta)\n",
        "rot = np.array([[np.cos(theta), -np.sin(theta)],\n",
        "               [np.sin(theta), np.cos(theta)]])\n",
        "print(\"Matriks rotasi: \\n\" ,rot)\n",
        "rot = np.linalg.inv(rot)\n",
        "print(\"Invers Matriks rotasi: \\n\" ,rot)\n",
        "\n",
        "P3 = rot.dot(P1)\n",
        "x = P3[0,0]\n",
        "y = P3[1,0]\n",
        "print(\"\\nHasil awal dari P, x, y adalah: \")\n",
        "print(\"P = \\n\" ,P3)\n",
        "print(\"x = \" ,x)\n",
        "print(\"y = \" ,y)"
      ],
      "execution_count": null,
      "outputs": [
        {
          "output_type": "stream",
          "text": [
            "P' = \n",
            " [[1]\n",
            " [3]]\n",
            "Theta awal =  60.0\n",
            "Theta dalam radian =  1.0471975511965976\n",
            "Matriks rotasi: \n",
            " [[ 0.5       -0.8660254]\n",
            " [ 0.8660254  0.5      ]]\n",
            "Invers Matriks rotasi: \n",
            " [[ 0.5        0.8660254]\n",
            " [-0.8660254  0.5      ]]\n",
            "P = \n",
            " [[3.09807621]\n",
            " [0.6339746 ]]\n",
            "x =  3.098076211353316\n",
            "y =  0.633974596215562\n",
            "\n",
            "Titik P baru = \n",
            " [[3.09807621]\n",
            " [0.6339746 ]]\n",
            "Berputar lagi =  -30.0\n",
            "Theta dalam radian =  -0.5235987755982988\n",
            "Matriks rotasi: \n",
            " [[ 0.8660254  0.5      ]\n",
            " [-0.5        0.8660254]]\n",
            "Invers Matriks rotasi: \n",
            " [[ 0.8660254 -0.5      ]\n",
            " [ 0.5        0.8660254]]\n",
            "\n",
            "Hasil awal dari P, x, y adalah: \n",
            "P = \n",
            " [[2.3660254 ]\n",
            " [2.09807621]]\n",
            "x =  2.366025403784439\n",
            "y =  2.098076211353316\n"
          ],
          "name": "stdout"
        }
      ]
    },
    {
      "cell_type": "code",
      "metadata": {
        "id": "1WFEy38w0ZVd"
      },
      "source": [
        ""
      ],
      "execution_count": null,
      "outputs": []
    }
  ]
}